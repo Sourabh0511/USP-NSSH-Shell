{
 "cells": [
  {
   "cell_type": "code",
   "execution_count": null,
   "metadata": {
    "collapsed": true
   },
   "outputs": [],
   "source": [
    "from weather import Weather\n",
    "weather = Weather(unit='c')\n",
    "\n",
    "# Lookup WOEID via http://weather.yahoo.com.\n",
    "\n",
    "lookup = weather.lookup(560743)\n",
    "condition = lookup.condition()\n",
    "print(condition.text())\n",
    "\n",
    "# Lookup via location name.\n",
    "\n",
    "location = weather.lookup_by_location('dublin')\n",
    "condition = location.condition()\n",
    "print(condition.text())\n",
    "\n",
    "# Get weather forecasts for the upcoming days.\n",
    "\n",
    "forecasts = location.forecast()\n",
    "for forecast in forecasts:\n",
    "    print(forecast.text())\n",
    "    print(forecast.date())\n",
    "    print(forecast.high())\n",
    "    print(forecast.low())"
   ]
  }
 ],
 "metadata": {
  "anaconda-cloud": {},
  "kernelspec": {
   "display_name": "Python [anaconda3]",
   "language": "python",
   "name": "Python [anaconda3]"
  },
  "language_info": {
   "codemirror_mode": {
    "name": "ipython",
    "version": 3
   },
   "file_extension": ".py",
   "mimetype": "text/x-python",
   "name": "python",
   "nbconvert_exporter": "python",
   "pygments_lexer": "ipython3",
   "version": "3.5.2"
  }
 },
 "nbformat": 4,
 "nbformat_minor": 0
}
